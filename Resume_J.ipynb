{
 "cells": [
  {
   "cell_type": "markdown",
   "metadata": {},
   "source": [
    "Resume Screening using NLP\n",
    "Required Components:\n",
    "1.) N no. of Resumes. \n",
    "2.) A CSV file.\n",
    "3.) spaCy."
   ]
  },
  {
   "cell_type": "code",
   "execution_count": 1,
   "metadata": {},
   "outputs": [],
   "source": [
    "import PyPDF2\n",
    "import os\n",
    "from os import listdir\n",
    "from os.path import isfile, join\n",
    "from io import StringIO\n",
    "import pandas as pd\n",
    "from collections import Counter\n",
    "import en_core_web_sm\n",
    "from spacy.matcher import PhraseMatcher"
   ]
  },
  {
   "cell_type": "code",
   "execution_count": 2,
   "metadata": {},
   "outputs": [
    {
     "data": {
      "text/plain": [
       "<spacy.lang.en.English at 0x16ce2061d88>"
      ]
     },
     "execution_count": 2,
     "metadata": {},
     "output_type": "execute_result"
    }
   ],
   "source": [
    "nlp = en_core_web_sm.load()\n",
    "nlp"
   ]
  },
  {
   "cell_type": "markdown",
   "metadata": {},
   "source": [
    "Create a folder which holds all Resumes to be compared"
   ]
  },
  {
   "cell_type": "code",
   "execution_count": 3,
   "metadata": {},
   "outputs": [
    {
     "data": {
      "text/plain": [
       "['C:/Users/Jeyamaruthi Cr1mzie/Desktop/For Project\\\\Anuj_Resume.pdf',\n",
       " 'C:/Users/Jeyamaruthi Cr1mzie/Desktop/For Project\\\\Jeyamaruthi_Resume.pdf']"
      ]
     },
     "execution_count": 3,
     "metadata": {},
     "output_type": "execute_result"
    }
   ],
   "source": [
    "fname = 'C:/Users/Jeyamaruthi Cr1mzie/Desktop/For Project'  #give ur path where you are storing your resume\n",
    "onlyfiles = [os.path.join(fname, f) for f in os.listdir(fname) if os.path.isfile(os.path.join(fname, f))]\n",
    "onlyfiles"
   ]
  },
  {
   "cell_type": "markdown",
   "metadata": {},
   "source": [
    "Method for extracting the PDF into text"
   ]
  },
  {
   "cell_type": "code",
   "execution_count": 7,
   "metadata": {},
   "outputs": [],
   "source": [
    "def extractpdf(file):\n",
    "    Reader = PyPDF2.PdfFileReader(open(file,'rb'))\n",
    "    NoOfPage = Reader.getNumPages()\n",
    "    count = 0\n",
    "    text = []\n",
    "    while count < NoOfPage:    \n",
    "        Pages = Reader.getPage(count)\n",
    "        count +=1\n",
    "        t = Pages.extractText()\n",
    "        #print (t)\n",
    "        text.append(t)\n",
    "    return text"
   ]
  },
  {
   "cell_type": "markdown",
   "metadata": {},
   "source": [
    "Method for creating the model, matching the keywords"
   ]
  },
  {
   "cell_type": "code",
   "execution_count": 13,
   "metadata": {},
   "outputs": [],
   "source": [
    "def model(file):\n",
    "    text = extractpdf(file)\n",
    "    text = str(text)\n",
    "    text = text.replace(\"\\\\n\",\"\")\n",
    "    text.lower()\n",
    "    keyword_dict = pd.read_csv('Keywords.csv')\n",
    "    keyword_dict\n",
    "    ML_words = [nlp(text) for text in keyword_dict['Machine Learning'].dropna(axis = 0)]\n",
    "    Python_words = [nlp(text) for text in keyword_dict['Python Language'].dropna(axis = 0)]\n",
    "    NLP_words = [nlp(text) for text in keyword_dict['NLP'].dropna(axis = 0)]\n",
    "    Front_words = [nlp(text) for text in keyword_dict['Front End Developer'].dropna(axis = 0)]\n",
    "    DA_words = [nlp(text) for text in keyword_dict['Data Analysis'].dropna(axis = 0)]\n",
    "    matcher = PhraseMatcher(nlp.vocab)\n",
    "\n",
    "    # matching the Resume & CSV file\n",
    "    matcher.add('ML', None, *ML_words)\n",
    "    matcher.add('Python',None, *Python_words)\n",
    "    matcher.add('NLP', None, *NLP_words)\n",
    "    matcher.add('FW', None, *Front_words)\n",
    "    matcher.add('DA', None, *DA_words)\n",
    "    doc = nlp(text)\n",
    "    d = []  \n",
    "    matches = matcher(doc)\n",
    "    for match_id, start, end in matches:\n",
    "        rule_id = nlp.vocab.strings[match_id]  \n",
    "        span = doc[start : end]  \n",
    "        d.append((rule_id, span.text))      \n",
    "    keywords = \"\\n\".join(f'{i[0]} {i[1]} ({j})' for i,j in Counter(d).items())\n",
    "    df = pd.read_csv(StringIO(keywords),names = ['Keywords_List']) #dataframe which holds all data                   (Step 1)\n",
    "                                                                   #i.e. \"Subject, Keyword & count in single column\"\n",
    "    df1 = pd.DataFrame(df.Keywords_List.str.split(' ',1).tolist(),columns = ['Subject','Keyword']) # seperated subject  from\n",
    "                                                                                                   # step 1          (Step 2)\n",
    "    df2 = pd.DataFrame(df1.Keyword.str.split('(',1).tolist(),columns = ['Keyword', 'Count']) # Segregating the count from S2\n",
    "    df3 = pd.concat([df1['Subject'],df2['Keyword'], df2['Count']], axis =1) #forming a new dataframe with 3 columns\n",
    "    df3['Count'] = df3['Count'].apply(lambda x: x.rstrip(\")\"))  # Seperating the bracket from Count \n",
    "    base = os.path.basename(file)   #Filename with extension\n",
    "    filename = os.path.splitext(base)[0]  #only the file name\n",
    "\n",
    "    name = filename.split('_') #Name of the file (The uploaded file should be in the form Name_Resume (eg:Jeyamaruthi_Resume))\n",
    "    name2 = name[0]\n",
    "    name2 = name2.lower()\n",
    "    ## converting str to dataframe\n",
    "    name3 = pd.read_csv(StringIO(name2),names = ['Candidate Name']) \n",
    "\n",
    "    dataf = pd.concat([name3['Candidate Name'], df3['Subject'], df3['Keyword'], df3['Count']], axis = 1)\n",
    "    dataf['Candidate Name'].fillna(dataf['Candidate Name'].iloc[0], inplace = True)\n",
    "\n",
    "    return(dataf)"
   ]
  },
  {
   "cell_type": "code",
   "execution_count": 14,
   "metadata": {},
   "outputs": [
    {
     "name": "stdout",
     "output_type": "stream",
     "text": [
      "  Candidate Name Subject             Keyword Count\n",
      "0           anuj      ML  Linear Regression      1\n",
      "1           anuj      DA                SQL      3\n",
      "2           anuj      DA             Pandas      1\n",
      "3           anuj  Python             Pandas      1\n",
      "4           anuj  Python         matplotlib      1\n",
      "5           anuj  Python            sklearn      1\n",
      "6           anuj      DA              Excel      2\n",
      "   Candidate Name Subject             Keyword Count\n",
      "0            anuj      ML  Linear Regression      1\n",
      "1            anuj      DA                SQL      3\n",
      "2            anuj      DA             Pandas      1\n",
      "3            anuj  Python             Pandas      1\n",
      "4            anuj  Python         matplotlib      1\n",
      "5            anuj  Python            sklearn      1\n",
      "6            anuj      DA              Excel      2\n",
      "0     jeyamaruthi      FW                PHP      1\n",
      "1     jeyamaruthi      FW               HTML      1\n",
      "2     jeyamaruthi      FW                CSS      1\n",
      "3     jeyamaruthi      FW         JavaScript      1\n",
      "4     jeyamaruthi      FW            Laravel      1\n",
      "5     jeyamaruthi      DA              Excel      1\n",
      "6     jeyamaruthi      DA              Numpy      1\n",
      "7     jeyamaruthi  Python              Numpy      1\n",
      "8     jeyamaruthi      DA             Pandas      1\n",
      "9     jeyamaruthi  Python             Pandas      1\n",
      "10    jeyamaruthi      DA         Matplotlib      1\n"
     ]
    }
   ],
   "source": [
    "final_database=pd.DataFrame()\n",
    "i = 0 \n",
    "while i < len(onlyfiles):\n",
    "    file = onlyfiles[i]\n",
    "    dat = model(file)\n",
    "    final_database = final_database.append(dat)\n",
    "    i +=1\n",
    "    print(final_database)"
   ]
  },
  {
   "cell_type": "markdown",
   "metadata": {},
   "source": [
    "Plotting the rest"
   ]
  },
  {
   "cell_type": "code",
   "execution_count": 15,
   "metadata": {},
   "outputs": [
    {
     "data": {
      "image/png": "[encoded data removed]",
      "text/plain": [
       "<Figure size 1800x720 with 1 Axes>"
      ]
     },
     "metadata": {
      "needs_background": "light"
     },
     "output_type": "display_data"
    }
   ],
   "source": [
    "#Fills the new database into format as S.No, Candidate Name, Subjects(which holds the count)\n",
    "final_database2 = final_database['Keyword'].groupby([final_database['Candidate Name'], final_database['Subject']]).count().unstack()\n",
    "final_database2.reset_index(inplace = True) \n",
    "final_database2.fillna(0,inplace=True) # Replace NAN with 0\n",
    "new_data = final_database2.iloc[:,1:]\n",
    "new_data.index = final_database2['Candidate Name']\n",
    "\n",
    "#execute the below line if you want to see the candidate profile in a csv format\n",
    "# soft_copy=new_data.to_csv('jeyamaruthi.csv')\n",
    "\n",
    "# Lets start plotting the graph with collected data\n",
    "import matplotlib.pyplot as plt\n",
    "plt.rcParams.update({'font.size': 10})\n",
    "ax = new_data.plot.barh(title=\"Resume keywords by category\", legend=False, figsize=(25,10), stacked=True)\n",
    "labels = []\n",
    "for j in new_data.columns:\n",
    "    for i in new_data.index:\n",
    "        label = str(j)+\": \" + str(new_data.loc[i][j])\n",
    "        labels.append(label)\n",
    "patches = ax.patches\n",
    "for label, rect in zip(labels, patches):\n",
    "    width = rect.get_width()\n",
    "    if width > 0:\n",
    "        x = rect.get_x() \n",
    "        y = rect.get_y()\n",
    "        height = rect.get_height()\n",
    "        ax.text(x + width/2., y + height/2., label, ha='center', va='center')\n",
    "plt.show()"
   ]
  },
  {
   "cell_type": "markdown",
   "metadata": {},
   "source": [
    "For better understand for people reviewing my code"
   ]
  },
  {
   "cell_type": "code",
   "execution_count": 21,
   "metadata": {},
   "outputs": [
    {
     "data": {
      "text/html": [
       "<div>\n",
       "<style scoped>\n",
       "    .dataframe tbody tr th:only-of-type {\n",
       "        vertical-align: middle;\n",
       "    }\n",
       "\n",
       "    .dataframe tbody tr th {\n",
       "        vertical-align: top;\n",
       "    }\n",
       "\n",
       "    .dataframe thead th {\n",
       "        text-align: right;\n",
       "    }\n",
       "</style>\n",
       "<table border=\"1\" class=\"dataframe\">\n",
       "  <thead>\n",
       "    <tr style=\"text-align: right;\">\n",
       "      <th>Subject</th>\n",
       "      <th>Candidate Name</th>\n",
       "      <th>DA</th>\n",
       "      <th>FW</th>\n",
       "      <th>ML</th>\n",
       "      <th>Python</th>\n",
       "    </tr>\n",
       "  </thead>\n",
       "  <tbody>\n",
       "    <tr>\n",
       "      <td>0</td>\n",
       "      <td>anuj</td>\n",
       "      <td>3.0</td>\n",
       "      <td>0.0</td>\n",
       "      <td>1.0</td>\n",
       "      <td>3.0</td>\n",
       "    </tr>\n",
       "    <tr>\n",
       "      <td>1</td>\n",
       "      <td>jeyamaruthi</td>\n",
       "      <td>4.0</td>\n",
       "      <td>5.0</td>\n",
       "      <td>0.0</td>\n",
       "      <td>2.0</td>\n",
       "    </tr>\n",
       "  </tbody>\n",
       "</table>\n",
       "</div>"
      ],
      "text/plain": [
       "Subject Candidate Name   DA   FW   ML  Python\n",
       "0                 anuj  3.0  0.0  1.0     3.0\n",
       "1          jeyamaruthi  4.0  5.0  0.0     2.0"
      ]
     },
     "execution_count": 21,
     "metadata": {},
     "output_type": "execute_result"
    }
   ],
   "source": [
    "#for user friendly: For better understanding\n",
    "temp_variable = final_database['Keyword'].groupby([final_database['Candidate Name'], final_database['Subject']]).count().unstack()\n",
    "temp_variable.reset_index(inplace = True) \n",
    "temp_variable.fillna(0,inplace=True) \n",
    "temp_variable"
   ]
  },
  {
   "cell_type": "code",
   "execution_count": null,
   "metadata": {},
   "outputs": [],
   "source": []
  }
 ],
 "metadata": {
  "kernelspec": {
   "display_name": "Python 3",
   "language": "python",
   "name": "python3"
  },
  "language_info": {
   "codemirror_mode": {
    "name": "ipython",
    "version": 3
   },
   "file_extension": ".py",
   "mimetype": "text/x-python",
   "name": "python",
   "nbconvert_exporter": "python",
   "pygments_lexer": "ipython3",
   "version": "3.7.4"
  }
 },
 "nbformat": 4,
 "nbformat_minor": 2
}
